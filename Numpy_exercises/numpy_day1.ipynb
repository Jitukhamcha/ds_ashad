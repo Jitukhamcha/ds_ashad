{
 "cells": [
  {
   "cell_type": "code",
   "execution_count": 1,
   "id": "410b5377",
   "metadata": {},
   "outputs": [
    {
     "name": "stdout",
     "output_type": "stream",
     "text": [
      "Collecting numpy\n",
      "  Downloading numpy-2.3.2-cp312-cp312-win_amd64.whl.metadata (60 kB)\n",
      "Downloading numpy-2.3.2-cp312-cp312-win_amd64.whl (12.8 MB)\n",
      "   ---------------------------------------- 0.0/12.8 MB ? eta -:--:--\n",
      "   ----------- ---------------------------- 3.7/12.8 MB 27.3 MB/s eta 0:00:01\n",
      "   --------------------------------- ------ 10.7/12.8 MB 29.2 MB/s eta 0:00:01\n",
      "   ---------------------------------------- 12.8/12.8 MB 26.7 MB/s eta 0:00:00\n",
      "Installing collected packages: numpy\n",
      "Successfully installed numpy-2.3.2\n"
     ]
    }
   ],
   "source": [
    "!pip install numpy\n"
   ]
  },
  {
   "cell_type": "code",
   "execution_count": 2,
   "id": "b0bd2eaa",
   "metadata": {},
   "outputs": [],
   "source": [
    "import numpy as np"
   ]
  },
  {
   "cell_type": "code",
   "execution_count": 3,
   "id": "2254d616",
   "metadata": {},
   "outputs": [
    {
     "name": "stdout",
     "output_type": "stream",
     "text": [
      "2.3.2\n"
     ]
    }
   ],
   "source": [
    "print(np.__version__)"
   ]
  },
  {
   "cell_type": "code",
   "execution_count": 5,
   "id": "b7c2b999",
   "metadata": {},
   "outputs": [
    {
     "name": "stdout",
     "output_type": "stream",
     "text": [
      "[1 2 3 4 5]\n",
      "<class 'numpy.ndarray'>\n"
     ]
    }
   ],
   "source": [
    "arr = np.array([1,2,3,4,5])\n",
    "print(arr)\n",
    "print(type(arr))"
   ]
  },
  {
   "cell_type": "code",
   "execution_count": 8,
   "id": "16bfdb70",
   "metadata": {},
   "outputs": [],
   "source": [
    "import sys\n",
    "import time"
   ]
  },
  {
   "cell_type": "markdown",
   "id": "62247bac",
   "metadata": {},
   "source": [
    "**PERFORMANCE COMPARISON**"
   ]
  },
  {
   "cell_type": "markdown",
   "id": "faf1392f",
   "metadata": {},
   "source": [
    "**ARRAY DIMENSION**"
   ]
  },
  {
   "cell_type": "code",
   "execution_count": 12,
   "id": "ec5e5e7c",
   "metadata": {},
   "outputs": [
    {
     "name": "stdout",
     "output_type": "stream",
     "text": [
      "42\n",
      "<class 'numpy.ndarray'>\n",
      "()\n",
      "The dimension of the avove array is: 0\n"
     ]
    }
   ],
   "source": [
    "arr = np.array(42)\n",
    "print(arr)\n",
    "print(type(arr))\n",
    "print(arr.shape)\n",
    "print(\"The dimension of the avove array is:\", arr.ndim)"
   ]
  },
  {
   "cell_type": "code",
   "execution_count": null,
   "id": "90e223c0",
   "metadata": {},
   "outputs": [],
   "source": [
    "size = 100_00_000\n"
   ]
  },
  {
   "cell_type": "markdown",
   "id": "f403b35c",
   "metadata": {},
   "source": [
    "**1-D (1 Dimensional Array)**"
   ]
  },
  {
   "cell_type": "code",
   "execution_count": 15,
   "id": "c43680ae",
   "metadata": {},
   "outputs": [
    {
     "name": "stdout",
     "output_type": "stream",
     "text": [
      "[1 2 3 4 5]\n",
      "(5,)\n",
      "The dimension of above array is : 1\n"
     ]
    }
   ],
   "source": [
    "arr = np.array([1,2,3,4,5])\n",
    "print(arr)\n",
    "print(arr.shape)\n",
    "print(\"The dimension of above array is :\", arr.ndim)"
   ]
  },
  {
   "cell_type": "markdown",
   "id": "019035ca",
   "metadata": {},
   "source": [
    "**2 Dimensional Array (2-D)**"
   ]
  },
  {
   "cell_type": "code",
   "execution_count": 17,
   "id": "2e036314",
   "metadata": {},
   "outputs": [
    {
     "name": "stdout",
     "output_type": "stream",
     "text": [
      "[[1 2 3 4]\n",
      " [5 6 7 8]]\n"
     ]
    }
   ],
   "source": [
    "variable = np.array([\n",
    "    [1,2,3,4],\n",
    "    [5,6,7,8]\n",
    "])\n",
    "print(variable)"
   ]
  },
  {
   "cell_type": "code",
   "execution_count": 20,
   "id": "03cbd90f",
   "metadata": {},
   "outputs": [
    {
     "name": "stdout",
     "output_type": "stream",
     "text": [
      "[[1 3 5 7 9]\n",
      " [4 5 6 7 8]]\n"
     ]
    }
   ],
   "source": [
    "arr = np.array([\n",
    "    (1,3,5,7,9),\n",
    "    (4,5,6,7,8)\n",
    "    ])\n",
    "\n",
    "print(arr)"
   ]
  },
  {
   "cell_type": "markdown",
   "id": "a307b9c6",
   "metadata": {},
   "source": [
    "**3-D (3 Dimensional Array)**"
   ]
  },
  {
   "cell_type": "code",
   "execution_count": 24,
   "id": "802d08ac",
   "metadata": {},
   "outputs": [
    {
     "name": "stdout",
     "output_type": "stream",
     "text": [
      "[[[ 1  2  3]\n",
      "  [ 4  5  6]]\n",
      "\n",
      " [[ 7  8  9]\n",
      "  [10 11 12]]]\n",
      "(2, 2, 3)\n",
      "The dimension of the above numpy is:  3\n"
     ]
    }
   ],
   "source": [
    "arr = np.array(\n",
    "    [\n",
    "        [[1,2,3],\n",
    "        [4,5,6]],\n",
    "        [[7,8,9],\n",
    "        [10,11,12]]\n",
    "    ]\n",
    "    )\n",
    "print(arr)\n",
    "print(arr.shape)\n",
    "print(\"The dimension of the above numpy is: \", arr.ndim)"
   ]
  },
  {
   "cell_type": "code",
   "execution_count": null,
   "id": "113715ce",
   "metadata": {},
   "outputs": [],
   "source": []
  }
 ],
 "metadata": {
  "kernelspec": {
   "display_name": "datascience",
   "language": "python",
   "name": "python3"
  },
  "language_info": {
   "codemirror_mode": {
    "name": "ipython",
    "version": 3
   },
   "file_extension": ".py",
   "mimetype": "text/x-python",
   "name": "python",
   "nbconvert_exporter": "python",
   "pygments_lexer": "ipython3",
   "version": "3.12.11"
  }
 },
 "nbformat": 4,
 "nbformat_minor": 5
}
